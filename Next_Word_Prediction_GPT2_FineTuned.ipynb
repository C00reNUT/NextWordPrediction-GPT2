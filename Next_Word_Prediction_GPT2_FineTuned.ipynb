{
  "nbformat": 4,
  "nbformat_minor": 0,
  "metadata": {
    "colab": {
      "name": "Next Word Prediction-GPT2-FineTuned-Amrita",
      "provenance": [],
      "collapsed_sections": []
    },
    "kernelspec": {
      "name": "python3",
      "display_name": "Python 3"
    },
    "accelerator": "GPU"
  },
  "cells": [
    {
      "cell_type": "markdown",
      "metadata": {
        "id": "H7LoMj4GA4n_",
        "colab_type": "text"
      },
      "source": [
        "# GPT-2 finetuned on Shashi Tharoor text\n",
        "\n",
        "This Note book is based on :\n",
        "Train a GPT-2 Text-Generating Model w/ GPU For Free by **Max Woolf (http://minimaxir.com)**\n",
        "\n"
      ]
    },
    {
      "cell_type": "code",
      "metadata": {
        "id": "KBkpRgBCBS2_",
        "colab_type": "code",
        "colab": {
          "base_uri": "https://localhost:8080/",
          "height": 176
        },
        "outputId": "11eeca6c-fd23-481e-d732-34cee4029ed0"
      },
      "source": [
        "%tensorflow_version 1.x\n",
        "!pip install -q gpt-2-simple\n",
        "import gpt_2_simple as gpt2\n",
        "from datetime import datetime\n",
        "from google.colab import files"
      ],
      "execution_count": 1,
      "outputs": [
        {
          "output_type": "stream",
          "text": [
            "TensorFlow 1.x selected.\n",
            "WARNING:tensorflow:\n",
            "The TensorFlow contrib module will not be included in TensorFlow 2.0.\n",
            "For more information, please see:\n",
            "  * https://github.com/tensorflow/community/blob/master/rfcs/20180907-contrib-sunset.md\n",
            "  * https://github.com/tensorflow/addons\n",
            "  * https://github.com/tensorflow/io (for I/O related ops)\n",
            "If you depend on functionality not listed there, please file an issue.\n",
            "\n"
          ],
          "name": "stdout"
        }
      ]
    },
    {
      "cell_type": "code",
      "metadata": {
        "id": "sUmTooTW3osf",
        "colab_type": "code",
        "colab": {
          "base_uri": "https://localhost:8080/",
          "height": 372
        },
        "outputId": "a1be82fa-2a01-4709-a7f6-d7c8d0c6dc64"
      },
      "source": [
        "!nvidia-smi"
      ],
      "execution_count": 2,
      "outputs": [
        {
          "output_type": "stream",
          "text": [
            "Mon Jul 20 20:05:37 2020       \n",
            "+-----------------------------------------------------------------------------+\n",
            "| NVIDIA-SMI 450.51.05    Driver Version: 418.67       CUDA Version: 10.1     |\n",
            "|-------------------------------+----------------------+----------------------+\n",
            "| GPU  Name        Persistence-M| Bus-Id        Disp.A | Volatile Uncorr. ECC |\n",
            "| Fan  Temp  Perf  Pwr:Usage/Cap|         Memory-Usage | GPU-Util  Compute M. |\n",
            "|                               |                      |               MIG M. |\n",
            "|===============================+======================+======================|\n",
            "|   0  Tesla K80           Off  | 00000000:00:04.0 Off |                    0 |\n",
            "| N/A   69C    P8    33W / 149W |      0MiB / 11441MiB |      0%      Default |\n",
            "|                               |                      |                 ERR! |\n",
            "+-------------------------------+----------------------+----------------------+\n",
            "                                                                               \n",
            "+-----------------------------------------------------------------------------+\n",
            "| Processes:                                                                  |\n",
            "|  GPU   GI   CI        PID   Type   Process name                  GPU Memory |\n",
            "|        ID   ID                                                   Usage      |\n",
            "|=============================================================================|\n",
            "|  No running processes found                                                 |\n",
            "+-----------------------------------------------------------------------------+\n"
          ],
          "name": "stdout"
        }
      ]
    },
    {
      "cell_type": "markdown",
      "metadata": {
        "id": "0wXB05bPDYxS",
        "colab_type": "text"
      },
      "source": [
        "## Downloading GPT-2\n"
      ]
    },
    {
      "cell_type": "code",
      "metadata": {
        "id": "P8wSlgXoDPCR",
        "colab_type": "code",
        "colab": {
          "base_uri": "https://localhost:8080/",
          "height": 141
        },
        "outputId": "0efac6f8-8ede-4d9c-f6dc-dab3da222d5e"
      },
      "source": [
        "gpt2.download_gpt2(model_name=\"124M\")"
      ],
      "execution_count": 3,
      "outputs": [
        {
          "output_type": "stream",
          "text": [
            "Fetching checkpoint: 1.05Mit [00:00, 242Mit/s]                                                      \n",
            "Fetching encoder.json: 1.05Mit [00:00, 70.5Mit/s]                                                   \n",
            "Fetching hparams.json: 1.05Mit [00:00, 462Mit/s]                                                    \n",
            "Fetching model.ckpt.data-00000-of-00001: 498Mit [00:02, 206Mit/s]                                   \n",
            "Fetching model.ckpt.index: 1.05Mit [00:00, 272Mit/s]                                                \n",
            "Fetching model.ckpt.meta: 1.05Mit [00:00, 142Mit/s]                                                 \n",
            "Fetching vocab.bpe: 1.05Mit [00:00, 139Mit/s]                                                       \n"
          ],
          "name": "stderr"
        }
      ]
    },
    {
      "cell_type": "code",
      "metadata": {
        "id": "6OFnPCLADfll",
        "colab_type": "code",
        "colab": {}
      },
      "source": [
        "file_name = \"shashi_tharoor.txt\""
      ],
      "execution_count": 4,
      "outputs": []
    },
    {
      "cell_type": "markdown",
      "metadata": {
        "id": "LdpZQXknFNY3",
        "colab_type": "text"
      },
      "source": [
        "## Finetune GPT-2\n"
      ]
    },
    {
      "cell_type": "code",
      "metadata": {
        "id": "aeXshJM-Cuaf",
        "colab_type": "code",
        "colab": {
          "base_uri": "https://localhost:8080/",
          "height": 1000
        },
        "outputId": "633139b6-489d-41da-bd98-dce4058eb4b0"
      },
      "source": [
        "sess = gpt2.start_tf_sess()\n",
        "\n",
        "gpt2.finetune(sess,\n",
        "              dataset=file_name,\n",
        "              model_name='124M',\n",
        "              steps=300,\n",
        "              restore_from='fresh',\n",
        "              run_name='run2',\n",
        "              print_every=10,\n",
        "              sample_every=100,\n",
        "              save_every=100\n",
        "              )"
      ],
      "execution_count": 5,
      "outputs": [
        {
          "output_type": "stream",
          "text": [
            "WARNING:tensorflow:From /usr/local/lib/python3.6/dist-packages/gpt_2_simple/src/sample.py:17: where (from tensorflow.python.ops.array_ops) is deprecated and will be removed in a future version.\n",
            "Instructions for updating:\n",
            "Use tf.where in 2.0, which has the same broadcast rule as np.where\n",
            "Loading checkpoint models/124M/model.ckpt\n",
            "INFO:tensorflow:Restoring parameters from models/124M/model.ckpt\n"
          ],
          "name": "stdout"
        },
        {
          "output_type": "stream",
          "text": [
            "\r  0%|          | 0/1 [00:00<?, ?it/s]"
          ],
          "name": "stderr"
        },
        {
          "output_type": "stream",
          "text": [
            "Loading dataset...\n"
          ],
          "name": "stdout"
        },
        {
          "output_type": "stream",
          "text": [
            "100%|██████████| 1/1 [00:01<00:00,  1.59s/it]\n"
          ],
          "name": "stderr"
        },
        {
          "output_type": "stream",
          "text": [
            "dataset has 163348 tokens\n",
            "Training...\n",
            "[10 | 52.92] loss=3.20 avg=3.20\n",
            "[20 | 98.93] loss=3.33 avg=3.27\n",
            "[30 | 144.91] loss=3.12 avg=3.22\n",
            "[40 | 190.90] loss=3.21 avg=3.22\n",
            "[50 | 236.86] loss=2.99 avg=3.17\n",
            "[60 | 282.80] loss=2.87 avg=3.12\n",
            "[70 | 328.76] loss=2.92 avg=3.09\n",
            "[80 | 374.73] loss=2.67 avg=3.03\n",
            "[90 | 420.71] loss=2.50 avg=2.97\n",
            "[100 | 466.67] loss=2.58 avg=2.93\n",
            "Saving checkpoint/run2/model-100\n",
            "======== SAMPLE 1 ========\n",
            " the first time: the New York Times on June-August,\n",
            "and The Telegraph (November).\n",
            "Meanwhile, the Chinese authorities had kept their distance from\n",
            "their hosts. It was as if the situation turned sour:\n",
            "India had been invited and acceded to the League of Nations in a formal declaration,\n",
            "but not before some of the world's leading Indian newspapermen had\n",
            "declared that India had left. The boycott, or so many in the news media claimed,\n",
            "could not possibly have been won by Indians: that they were being systematically suppressed\n",
            "by the Chinese. The boycott of British goods came at the urging\n",
            "of the British rulers: this was why British tariffs were so high,\n",
            "and why India would not voluntarily join a boycott.\n",
            "The British also had to fend off a demand for Indian goods: Indian goods\n",
            "could not yet be shipped to India on a regular basis.\n",
            "India was ready, but not prepared, because it was ready to boycott,\n",
            "in the name of a united world, the most valuable exports of which were Indian\n",
            "material, such as steel, wool, silver, iron and spices.\n",
            "In other words, if Britain did not demand it from India, Britain would\n",
            "not, because the British knew about Indians. (Indeed, on many occasions, the\n",
            "British government publicly acknowledged that it had not offered India more British\n",
            "services but instead offered an alternative one: an alternative to Britain.) With the\n",
            "supply of Indian goods still low, India began an assault on Britain.\n",
            "The British government announced in a letter to the Secretary of State for India\n",
            "that they had ordered a large and sustained boycott against the items within\n",
            "India that were being shipped, so that a quarter of a million Indian items might\n",
            "not have been shipped into Britain. That meant a million Indians. A boycott\n",
            "of British goods could not have been justified by the urgency of the\n",
            "problem: the demand for British goods was not enough, India had to be made\n",
            "just.\n",
            "And so the boycott was launched, with the help of all the governments\n",
            "in India: the British, the Congress, the League of Nations, the League of\n",
            "East\n",
            "Africa, the Central African Republic, the Central Indian Congress, the Indian\n",
            "Nigeria Congress, the South African National Congress, and the Malayan Democratic\n",
            "Congress.\n",
            "The\n",
            "British government in India was quick to denounce the boycott and demand a\n",
            "direct boycott of everything within its jurisdiction, though not the goods\n",
            "subject to India boycotts, including steel, silver and metal. At the end of July\n",
            ", India sent the\n",
            "Government of India Proclamation to China on May\n",
            ", offering a large sum of cash and all financial assistance. The order\n",
            "was accepted, and the\n",
            "British Government accepted it on\n",
            "August.\n",
            "\n",
            "\fAfter an extensive process of negotiation, a compromise came to\n",
            "here in August: the government would hand over the entire\n",
            "source of India imports and exports, to the League of Nations, in compensation for its\n",
            "dispossession at the end of\n",
            ". This gave the British Government a very specific set of commitments\n",
            "to fulfil in respect of India. India would receive approximately twenty per\n",
            "cent of all Britain-supplied goods in the year\n",
            "from Britain;\n",
            "thirty per cent of all UK-supplied supplies would flow to China, with a\n",
            "per cent reduction in the annual shortfall to about\n",
            "£ million (£ million), to India. This meant the annual\n",
            "£ billion shortfall from the British purchase of India of approximately\n",
            "British-made\n",
            "carats worth approximately\n",
            "per cent of all British-made purchases worldwide. This was not\n",
            "dramatic: the Government of India could not be expected to spend\n",
            "£ billion more than twenty years from now on a world\n",
            "without British products. This meant that the need for significant fiscal\n",
            "reforms would not only increase the shortfall but also weaken the\n",
            "confidence of the Indians, who may now be anxious that British products\n",
            "will disappear in time.\n",
            "In essence, the British\n",
            "Government was willing to give up the principal source of\n",
            "export revenues for India: the Government of India had previously agreed to\n",
            "provide a significant part of the Indian surplus value\n",
            "to the Government of China. (This would become a separate surplus in\n",
            ". The amount was set aside for the Chinese Government and made\n",
            "equal to the shortfall.)\n",
            "In this case, however, Britain had made the agreement public to\n",
            "the Indians and their representatives in China, and in August a joint\n",
            "statement was drafted laying out the case for a joint claim over India\n",
            "and China. (Both India and China would enjoy permanent,\n",
            "unconditional\n",
            "special\n",
            "rights to the Indian surplus and the Government of India could claim the\n",
            "China surplus, which included an official\n",
            "commentary by Mr Speaker entitled The Case for India.)\n",
            "The British government in India found similar commitments\n",
            "unacceptable. The joint statement included a demand that\n",
            "the British Government of India\n",
            "declare its commitment to take all necessary measures, together with\n",
            "support\n",
            "\n",
            "[110 | 534.58] loss=2.60 avg=2.90\n",
            "[120 | 580.60] loss=2.51 avg=2.87\n",
            "[130 | 626.67] loss=2.22 avg=2.81\n",
            "[140 | 672.70] loss=2.13 avg=2.76\n",
            "[150 | 718.64] loss=1.98 avg=2.71\n",
            "[160 | 764.59] loss=2.01 avg=2.66\n",
            "[170 | 810.53] loss=2.00 avg=2.62\n",
            "[180 | 856.52] loss=1.58 avg=2.55\n",
            "[190 | 902.44] loss=1.89 avg=2.52\n",
            "[200 | 948.45] loss=1.66 avg=2.47\n",
            "Saving checkpoint/run2/model-200\n",
            "WARNING:tensorflow:From /tensorflow-1.15.2/python3.6/tensorflow_core/python/training/saver.py:963: remove_checkpoint (from tensorflow.python.training.checkpoint_management) is deprecated and will be removed in a future version.\n",
            "Instructions for updating:\n",
            "Use standard file APIs to delete files with this prefix.\n",
            "======== SAMPLE 1 ========\n",
            " religious religious and mystical school, and was denied the respect of the law either in its formal application, or in the informal variants that came to be a result of the Indian Civil Service becoming ill-prepared for the influx of Englishmen into the civil service of India: the civil service did not have the ‘professional competence, the ‘principal source of English education’ required by the ICSR Act, to ensure the welfare of its Indian Indian employees, and’s principal purpose’ was to provide an integrated society and a functioning administrative state.\n",
            "‘The civil service is a tool of the ruling classes, and the work of it is useless for the improvement of the society it is in’, wrote Mill’s Theology in Defense of the English East India Company.’\n",
            "It was not just the British in India that was to suffer: the British Raj, through the ministries of Lord Curzon, Lord Curzon and Lord Curzon’s son, the East India Company, operated several large and influential enterprises which were staffed by foreign investors, many of them Indian—and these companies were largely large ones: they made up a large part of the ‘surplus’ Indian investors gave the British the upper hand in bideting the Depression.\n",
            "They also ran several small and mid–sized enterprises which had very low levels of product or service, inadequate infrastructure, minimal financing and no capital—in short, very little—which could create revenue for the Company. In the nineteenth century, these enterprises had a net return of £ , , , equivalent to £ , , equal to a figure equivalent to about one-eighth of the amount raised by the Indian treasury.\n",
            "\n",
            "\fSo the question—why were businesses badly run by people looking for a comfortable living when they could be raising money and selling shares, paying employees less than what was fair value and, most important, putting the interests of the few per cent of the population who had the right to determine the terms of the Company’s future—put a gloss on the whole situation.\n",
            "The trouble was, the people buying and selling these things were the ones who could not accept that a few individuals would wield enormous political power and control a nation on the verge of civilizational collapse. They did not want their political power to be supplanted by that of a handful of ordinary middle-class Englishmen holding out on a white planet for the blessings of their lifestyles. They wanted to escape the horrors of the Raj and embrace something far more life-affirming and meaningful: democracy.\n",
            "\n",
            "\fThe British in India had, of course, made their political system democratic everywhere it went, but not without its ills. The nineteenth-century horrors of Empire, and the British regime in whose name millions of Indians were maimed, forced\n",
            "crimes, enslaved, drugged and tortured, lined up criminals and criminals and menaces,\n",
            "punished races, sexes and creeds, and attacked peoples, languages, religions and\n",
            "settlements, stood in stark opposition to the system of political rule that the British had\n",
            "created and was instilled in the soil. Indeed, it was only when the British returned from the Raj that\n",
            "democracy was finally achieved, and once again the British state had no compunctions\n",
            "about ruthlessly oppressing its former victims.\n",
            "But the British were not the only one. India’s ruling class, the elite of which was\n",
            "supposed to operate under the assumption that it needed to be ruled by a few men with the\n",
            "power to extricate itself from the grip of its colonial past. The Indian ruling caste was\n",
            "even more elusive about its needs: few even identified with the masses they\n",
            "were supposedly subjugated to in India. Only a few, as I have mentioned earlier\n",
            "and will describe under the next chapter, took positions of power who could not\n",
            "be browbeatuled by the prevailing class consciousness. Some of these elites were able to\n",
            "establish ‘lower’ social structures because of the ‘mobility of the ruling classes’;\n",
            "others like to-day’ of some sort, even in the Indian\n",
            "ambiguatricony, were largely disconnected from the real society of their\n",
            "own homes and villages. The caste system was shaped both by\n",
            "the needs and the preferences of the ruling class, which tended to be\n",
            "based in London or New York—a shifting base of which India’s\n",
            "\n",
            "\fdivisions were largely shaped.\n",
            "The British created ‘caste’ as a permanent feature of Indian\n",
            "society, something people ‘could focus on their own business’;\n",
            "caste members lived in ‘affluent, reasonably-paying, metropolitan India’s\n",
            "real estate and had access to good public transport; and whites\n",
            "had access to ‘greater metropolitan areas’ throughout Asia and\n",
            "Europe.\n",
            "But the British created caste society in the interests of British\n",
            "colonialism and the business interests of\n",
            "\n",
            "[210 | 1014.32] loss=1.46 avg=2.42\n",
            "[220 | 1060.24] loss=1.68 avg=2.38\n",
            "[230 | 1106.25] loss=1.69 avg=2.35\n",
            "[240 | 1152.19] loss=1.32 avg=2.30\n",
            "[250 | 1198.14] loss=1.10 avg=2.24\n",
            "[260 | 1244.10] loss=1.47 avg=2.21\n",
            "[270 | 1290.07] loss=1.25 avg=2.17\n",
            "[280 | 1336.01] loss=0.89 avg=2.12\n",
            "[290 | 1381.93] loss=0.76 avg=2.06\n",
            "[300 | 1427.82] loss=0.87 avg=2.02\n",
            "Saving checkpoint/run2/model-300\n"
          ],
          "name": "stdout"
        }
      ]
    },
    {
      "cell_type": "code",
      "metadata": {
        "id": "odJwnXCwyZbY",
        "colab_type": "code",
        "colab": {
          "base_uri": "https://localhost:8080/",
          "height": 125
        },
        "outputId": "b18a5fc6-f9c1-4c54-c125-10a9b11a8f63"
      },
      "source": [
        "from google.colab import drive\n",
        "drive.mount('/content/drive')"
      ],
      "execution_count": 6,
      "outputs": [
        {
          "output_type": "stream",
          "text": [
            "Go to this URL in a browser: https://accounts.google.com/o/oauth2/auth?client_id=947318989803-6bn6qk8qdgf4n4g3pfee6491hc0brc4i.apps.googleusercontent.com&redirect_uri=urn%3aietf%3awg%3aoauth%3a2.0%3aoob&response_type=code&scope=email%20https%3a%2f%2fwww.googleapis.com%2fauth%2fdocs.test%20https%3a%2f%2fwww.googleapis.com%2fauth%2fdrive%20https%3a%2f%2fwww.googleapis.com%2fauth%2fdrive.photos.readonly%20https%3a%2f%2fwww.googleapis.com%2fauth%2fpeopleapi.readonly\n",
            "\n",
            "Enter your authorization code:\n",
            "··········\n",
            "Mounted at /content/drive\n"
          ],
          "name": "stdout"
        }
      ]
    },
    {
      "cell_type": "code",
      "metadata": {
        "id": "VHdTL8NDbAh3",
        "colab_type": "code",
        "colab": {}
      },
      "source": [
        "gpt2.copy_checkpoint_to_gdrive(run_name='run2')"
      ],
      "execution_count": 7,
      "outputs": []
    },
    {
      "cell_type": "markdown",
      "metadata": {
        "id": "qQJgV_b4bmzd",
        "colab_type": "text"
      },
      "source": [
        "You're done! Feel free to go to the **Generate Text From The Trained Model** section to generate text based on your retrained model."
      ]
    },
    {
      "cell_type": "markdown",
      "metadata": {
        "id": "pel-uBULXO2L",
        "colab_type": "text"
      },
      "source": [
        "## Load a Trained Model Checkpoint\n",
        "\n",
        "Running the next cell will copy the `.rar` checkpoint file from your Google Drive into the Colaboratory VM."
      ]
    },
    {
      "cell_type": "code",
      "metadata": {
        "id": "DCcx5u7sbPTD",
        "colab_type": "code",
        "colab": {}
      },
      "source": [
        "gpt2.copy_checkpoint_from_gdrive(run_name='run2')"
      ],
      "execution_count": 8,
      "outputs": []
    },
    {
      "cell_type": "code",
      "metadata": {
        "id": "-fxL77nvAMAX",
        "colab_type": "code",
        "colab": {}
      },
      "source": [
        "sess = gpt2.start_tf_sess()\n",
        "gpt2.load_gpt2(sess, run_name='run2')"
      ],
      "execution_count": null,
      "outputs": []
    },
    {
      "cell_type": "code",
      "metadata": {
        "id": "8DKMc0fiej4N",
        "colab_type": "code",
        "colab": {
          "base_uri": "https://localhost:8080/",
          "height": 1000
        },
        "outputId": "526dbd1b-f076-4f47-a42b-058ab4a35b9f"
      },
      "source": [
        "gpt2.generate(sess,\n",
        "              length=50,\n",
        "              temperature=0.7,\n",
        "              prefix=\"LORD\",\n",
        "              nsamples=5,\n",
        "              batch_size=5\n",
        "              )"
      ],
      "execution_count": null,
      "outputs": [
        {
          "output_type": "stream",
          "text": [
            "LORD WILLOUGHBY:\n",
            "That, by the way, Clarence and I have done good side by side;\n",
            "And yet side we, and he side we have done ill.\n",
            "\n",
            "KING RICHARD II:\n",
            "Why then 'tis done ill. O, how should I ease it?\n",
            "Side with him and my brother, my sovereign!\n",
            "Side wither away, and as night falls,\n",
            "Like to the farthest morning to my last,\n",
            "Side wither away, and as morning comes,\n",
            "Like to the furthest afternoon to my last!\n",
            "Side wither away, and as our fortunes turn,\n",
            "Like to the furthest afternoon to our last!\n",
            "\n",
            "QUEEN MARGARET:\n",
            "What is this? counsel? counsel!\n",
            "\n",
            "KING RICHARD II:\n",
            "My queen and my heir, for half a mile and a half\n",
            "She will glide this way, to be or no.\n",
            "\n",
            "QUEEN MARGARET:\n",
            "So stands the orchard here, for half a mile and a!\n",
            "\n",
            "KING RICHARD II:\n",
            "So stands the orchard here, to fence it, to!\n",
            "Fashion it in her, like the hedgehog's net\n",
            "====================\n",
            "LORD STANLEY:\n",
            "What if I told you, in the hope of succor,\n",
            "That I had lain a little while in your arms?\n",
            "\n",
            "DUKE OF YORK:\n",
            "No doubt, my lord.\n",
            "\n",
            "QUEEN ELIZABETH:\n",
            "'Tis a pity I should be coil'd to\n",
            "Be brief and unanswerable. Yet give me this.\n",
            "\n",
            "EXTON:\n",
            "'Tis a truth that vexes me deeply\n",
            "To try whether thou, Lord Hastings, art moved\n",
            "To enter publicly with gentle discourse\n",
            "And thanks from his acknowledged friends.\n",
            "\n",
            "HASTINGS:\n",
            "My gracious lord,\n",
            "Suppose me this: did I so love to see the Tower?\n",
            "\n",
            "KING RICHARD II:\n",
            "I did so; but the duelling Tower, moved\n",
            "By jealousies to oppress me,\n",
            "Wretches to usurp him held most dear,\n",
            "The truth is, I loved the Tower as I loved\n",
            "The princes that envied their prosperity.\n",
            "\n",
            "HASTINGS:\n",
            "I loved innocently,\n",
            "When my princes did usurp their gains; when\n",
            "When my grandsire and my liege, prince and prince,\n",
            "B\n",
            "====================\n",
            "LORD WILLOUGHBY:\n",
            "How long shall it take? only\n",
            "To behold your father's bending in the duke's.\n",
            "How long shall it be? do you understand me?\n",
            "\n",
            "ROMEO:\n",
            "Your grace, I understand you.\n",
            "\n",
            "ROMEO:\n",
            "It must be so; then I'll excuse myself.\n",
            "\n",
            "ROMEO:\n",
            "It shall be so.\n",
            "\n",
            "FRIAR LAURENCE:\n",
            "Your nose is pleasant on myself.\n",
            "\n",
            "ROMEO:\n",
            "No need.\n",
            "\n",
            "FRIAR LAURENCE:\n",
            "My heart is troubled by strange thoughts.\n",
            "\n",
            "ROMEO:\n",
            "No need.\n",
            "\n",
            "FRIAR LAURENCE:\n",
            "My heart is troubled by strange thoughts.\n",
            "\n",
            "ROMEO:\n",
            "Prithee, be quiet; thou need'st it.\n",
            "\n",
            "FRIAR LAURENCE:\n",
            "My mind is unsettled; no need.\n",
            "\n",
            "ROMEO:\n",
            "Prithee, be quiet; thou need'st it.\n",
            "\n",
            "FRIAR LAURENCE:\n",
            "My mind is unsettled; no need.\n",
            "\n",
            "ROMEO:\n",
            "Prithee, be quiet; thou need'st it.\n",
            "\n",
            "FRIAR LA\n",
            "====================\n",
            "LORD WILLOUGHBY:\n",
            "And, if the right Edward were slain,\n",
            "My father's blood should wash the world from me.\n",
            "\n",
            "QUEEN MARGARET:\n",
            "O, let him fly from me, that he may live!\n",
            "\n",
            "PRINCE EDWARD:\n",
            "Arise, one last, and let him be slain ere he return.\n",
            "\n",
            "QUEEN MARGARET:\n",
            "I thank God I am not young nor old to waste.\n",
            "I am young and wooer than this young wooer was.\n",
            "\n",
            "YORK:\n",
            "Younger than young, and wooer than a man is.\n",
            "\n",
            "QUEEN MARGARET:\n",
            "What, wilt thou not kill her?\n",
            "\n",
            "RYBHUS:\n",
            "If thou darest, thou hast to do good deeds,\n",
            "If thou darest, thou darest not kill her, thou darest.\n",
            "\n",
            "PRINCE EDWARD:\n",
            "Where dost thou go? command Warwick to take her?\n",
            "\n",
            "WARWICK:\n",
            "Where leadess Warwick be that Warwick is woo'd.\n",
            "\n",
            "YORK:\n",
            "Where leadess Warwick be woo'd that noble York is.\n",
            "\n",
            "PRINCE\n",
            "====================\n",
            "LORD WILLOUGHBY:\n",
            "Let him please to come and sup with him?\n",
            "\n",
            "WARWICK:\n",
            "I promised he should come and sup with him.\n",
            "\n",
            "YORK:\n",
            "'Twas a vow of charity to vex him,\n",
            "And then he should vex us to come and sup.\n",
            "\n",
            "WARWICK:\n",
            "'Twas but a vow to come and sup with him.\n",
            "\n",
            "YORK:\n",
            "'Twas but a vow to come and sup with him.\n",
            "\n",
            "WARWICK:\n",
            "Come hither, slave boy.\n",
            "Me I come, you wretched hag, you wretched thing.\n",
            "\n",
            "DORCAS:\n",
            "'Tis very well. Come, go with me.\n",
            "\n",
            "WARWICK:\n",
            "I will be his slave, and make his bondage known.\n",
            "\n",
            "EXTON:\n",
            "So, you have resisted his bondage, you have run your errand too far.\n",
            "\n",
            "WESTMORELAND:\n",
            "O, but O, the slave that was past the year\n",
            "Doth not my errand a better errand?\n",
            "\n",
            "EXTON:\n",
            "No, for so my wits charge me thus too late.\n",
            "\n",
            "WARWICK:\n",
            "But\n",
            "====================\n"
          ],
          "name": "stdout"
        }
      ]
    },
    {
      "cell_type": "code",
      "metadata": {
        "id": "rIHiVP53FnsX",
        "colab_type": "code",
        "colab": {}
      },
      "source": [
        "!kill -9 -1"
      ],
      "execution_count": null,
      "outputs": []
    },
    {
      "cell_type": "markdown",
      "metadata": {
        "id": "wmTXWNUygS5E",
        "colab_type": "text"
      },
      "source": [
        "# LICENSE\n",
        "\n",
        "MIT License\n",
        "\n",
        "Copyright (c) 2019 Max Woolf\n",
        "\n",
        "Permission is hereby granted, free of charge, to any person obtaining a copy\n",
        "of this software and associated documentation files (the \"Software\"), to deal\n",
        "in the Software without restriction, including without limitation the rights\n",
        "to use, copy, modify, merge, publish, distribute, sublicense, and/or sell\n",
        "copies of the Software, and to permit persons to whom the Software is\n",
        "furnished to do so, subject to the following conditions:\n",
        "\n",
        "The above copyright notice and this permission notice shall be included in all\n",
        "copies or substantial portions of the Software.\n",
        "\n",
        "THE SOFTWARE IS PROVIDED \"AS IS\", WITHOUT WARRANTY OF ANY KIND, EXPRESS OR\n",
        "IMPLIED, INCLUDING BUT NOT LIMITED TO THE WARRANTIES OF MERCHANTABILITY,\n",
        "FITNESS FOR A PARTICULAR PURPOSE AND NONINFRINGEMENT. IN NO EVENT SHALL THE\n",
        "AUTHORS OR COPYRIGHT HOLDERS BE LIABLE FOR ANY CLAIM, DAMAGES OR OTHER\n",
        "LIABILITY, WHETHER IN AN ACTION OF CONTRACT, TORT OR OTHERWISE, ARISING FROM,\n",
        "OUT OF OR IN CONNECTION WITH THE SOFTWARE OR THE USE OR OTHER DEALINGS IN THE\n",
        "SOFTWARE."
      ]
    }
  ]
}