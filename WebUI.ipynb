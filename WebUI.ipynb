{
  "nbformat": 4,
  "nbformat_minor": 0,
  "metadata": {
    "colab": {
      "name": "WebUI.ipynb",
      "provenance": [],
      "collapsed_sections": []
    },
    "kernelspec": {
      "name": "python3",
      "display_name": "Python 3"
    },
    "accelerator": "GPU"
  },
  "cells": [
    {
      "cell_type": "code",
      "metadata": {
        "id": "IIuevqgt5MG4",
        "colab_type": "code",
        "colab": {}
      },
      "source": [
        "import requests\n",
        "from bs4 import BeautifulSoup"
      ],
      "execution_count": null,
      "outputs": []
    },
    {
      "cell_type": "code",
      "metadata": {
        "id": "yCg5MVVV6UFO",
        "colab_type": "code",
        "colab": {}
      },
      "source": [
        "!pip install flask-ngrok"
      ],
      "execution_count": null,
      "outputs": []
    },
    {
      "cell_type": "code",
      "metadata": {
        "id": "vkGg1zGsXHc9",
        "colab_type": "code",
        "colab": {}
      },
      "source": [
        "%tensorflow_version 1.x\n",
        "!pip install -q gpt-2-simple\n",
        "import gpt_2_simple as gpt2"
      ],
      "execution_count": null,
      "outputs": []
    },
    {
      "cell_type": "code",
      "metadata": {
        "id": "-g9asDjY5NMV",
        "colab_type": "code",
        "colab": {}
      },
      "source": [
        "from flask import Flask,request\n",
        "from flask_ngrok import run_with_ngrok\n",
        "app = Flask(__name__)\n",
        "run_with_ngrok(app)\n",
        "\n",
        "from keras import backend as K\n",
        "K.clear_session()\n",
        "gpt2.copy_checkpoint_from_gdrive(run_name='run2')\n",
        "sess = gpt2.start_tf_sess()\n",
        "gpt2.load_gpt2(sess, run_name='run2')\n",
        "\n",
        "import tensorflow as tf\n",
        "graph = tf.get_default_graph()\n",
        "global old_text\n",
        "old_text=\"\"\n",
        "@app.route(\"/\")\n",
        "def root():\n",
        "    html=\"<b><center><h2>Predict next word - Using GPT2<br>Fine Tuned on book - Inglorious Empire by Dr. Shashi Tharoor<br>Amrita Univ</h2></center></b><br><br>\"\n",
        "    html=html+'<br>\\\n",
        "    <form method=\"POST\" action=\"/submit\"><br>\\\n",
        "    Text: <textarea style=\"width: 500px;height: 100px;\" name=\"txt\" id=\"txt\"></textarea><br><br>\\\n",
        "    <input type=\"submit\" value=\"predict\"/> <br><br>\\\n",
        "    Enter threshold(eg: 0.7): <input  name=\"threshold\" id=\"threshold\" value=\"0.6\"></input><br><br>\\\n",
        "    <br><br><br>---------------- \\\n",
        "    </form>'\n",
        "    \n",
        "    return html\n",
        "\n",
        "@app.route(\"/submit\",methods=['POST'])\n",
        "def submit():\n",
        "\n",
        "    global old_text\n",
        "    txt=request.form['txt']\n",
        "    \n",
        "    threshold=float(request.form['threshold'])\n",
        "    with graph.as_default():\n",
        "      pred=gpt2.generate(sess, run_name='run2',length=5,temperature=threshold,prefix=txt,nsamples=5,batch_size=5,return_as_list=True)\n",
        "    pred=[p.replace('\\n',' ').rstrip() for p in pred]\n",
        "    html=\"<b><center><h2>Predict next word - Using GPT2<br>Fine Tuned on book - Inglorious Empire by Dr. Shashi Tharoor<br>Amrita Univ</h2></center></b><br><br>\"\n",
        "    html=html+'<br>\\\n",
        "    <form method=\"POST\" action=\"/submit\"><br>\\\n",
        "    Text: <textarea style=\"width: 500px;height: 100px;\" name=\"txt\" id=\"txt\" >'+txt+pred[0][len(txt):]+'</textarea><br><br>\\\n",
        "    <input type=\"submit\" value=\"Continue predict\"/><br><br> \\\n",
        "    Top Predictions: <textarea style=\"width: 500px;height: 100px;\" name=\"txt1\" id=\"txt1\" >'+\"\\n\".join(pred)+'</textarea><br><br>\\\n",
        "    Enter threshold(eg: 0.7): <input  name=\"threshold\" id=\"threshold\" value=\"0.8\"></input><br><br>\\\n",
        "    <br><br><br>---------------- \\\n",
        "    </form>'\n",
        "    old_text=txt\n",
        "    return html\n",
        "\n",
        "if __name__ == \"__main__\":\n",
        "    app.run()"
      ],
      "execution_count": null,
      "outputs": []
    }
  ]
}